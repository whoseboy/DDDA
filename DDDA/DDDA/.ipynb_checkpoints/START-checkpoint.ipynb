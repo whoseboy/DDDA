{
 "cells": [
  {
   "cell_type": "code",
   "execution_count": 2,
   "id": "84db8ed1",
   "metadata": {},
   "outputs": [],
   "source": [
    "# Input a 2D pollutied data set within normal distributed noise.\n",
    "\n"
   ]
  },
  {
   "cell_type": "markdown",
   "id": "ac0bc958",
   "metadata": {},
   "source": [
    "# Dataset pre-treatment\n",
    "## Import and draw\n",
    "(The data has polluted in three parts: background, position(x and y coordinate) and value noise(the dependent number))"
   ]
  },
  {
   "cell_type": "code",
   "execution_count": 1,
   "id": "7383f087",
   "metadata": {},
   "outputs": [
    {
     "name": "stdout",
     "output_type": "stream",
     "text": [
      "\u001b[H\u001b[2J"
     ]
    }
   ],
   "source": [
    "%reset -f\n",
    "%clear\n",
    "import numpy as np\n",
    "import copy\n",
    "import matplotlib.pyplot as plt \n",
    "plt.close('all')\n",
    "import scipy.io as scio\n",
    "from mpl_toolkits.mplot3d import axes3d\n",
    "import pandas as pd\n",
    "import scipy.stats as stats\n",
    "import math\n",
    "from numba import jit # Accelerator\n",
    "from scipy.spatial import Voronoi, ConvexHull\n",
    "from sklearn.neighbors import KDTree, KernelDensity\n",
    "from sklearn.model_selection import GridSearchCV\n",
    "import platform\n",
    "import time\n",
    "import seaborn as sns\n",
    "\n",
    "# DataX = scio.loadmat('PollutedPositionX_3D.mat')\n",
    "# DataX = DataX['PositionXP']\n",
    "# DataY = scio.loadmat('PollutedPositionY_3D.mat')\n",
    "# DataY = DataY['PositionYP']\n",
    "# DataZ = scio.loadmat('PollutedPositionZ_3D.mat')\n",
    "# DataZ = DataZ['PositionZP']\n",
    "# DataF = scio.loadmat('PollutedData_3D.mat')\n",
    "# DataF = DataF['DataOutP']\n",
    "\n",
    "DataX = scio.loadmat('PositionX_3D.mat')\n",
    "DataX = DataX['N1']\n",
    "DataY = scio.loadmat('PositionY_3D.mat')\n",
    "DataY = DataY['N2']\n",
    "DataZ = scio.loadmat('PositionZ_3D.mat')\n",
    "DataZ = DataZ['N3']\n",
    "DataF = scio.loadmat('Data_3D.mat')\n",
    "DataF = DataF['DataOut']\n",
    "\n",
    "InterLength = 40\n",
    "InterShift = 0.3\n",
    "r0 = 3\n",
    "rn = 10\n",
    "Claster = 2\n",
    "# NoPs = 40 * 40 # Points in one outend surface\n",
    "# print(NoPs)\n",
    "\n",
    "# Import data and draw.\n",
    "# Inter_Left_x = 0.3\n",
    "# Inter_Right_x = 2.7\n",
    "# Inter_Left_y = 0.3\n",
    "# Inter_Right_y = 2.7\n",
    "# Inter_Left_z = -1.2\n",
    "# Inter_Right_z = 1.2\n",
    "\n",
    "# n = 40\n",
    "\n",
    "# NoPin1D = 40\n",
    "# RoughMinAxis = min([Inter_Right_x - Inter_Left_x, \\\n",
    "#                     Inter_Right_y - Inter_Left_y, \\\n",
    "#                     Inter_Right_z - Inter_Left_z])\n",
    "\n",
    "# RoughMindis = RoughMinAxis / NoPin1D\n",
    "\n",
    "# Truncation paremeter\n",
    "# Trunc_r_0 = RoughMindis * 3\n",
    "# Trunc_r_1 = Trunc_r_0 * 1.5\n",
    "# Trunc_rn = 10\n",
    "\n",
    "# # Support domain paremeter\n",
    "# h_0 = RoughMindis * 1.2\n",
    "# h_1 = h_0 * 2\n",
    "# hn = 10\n",
    "\n",
    "\n",
    "# ClusterRegion = 2"
   ]
  },
  {
   "cell_type": "code",
   "execution_count": 2,
   "id": "a1ce6e23",
   "metadata": {},
   "outputs": [
    {
     "name": "stderr",
     "output_type": "stream",
     "text": [
      "/home/kukup/MachineScientist/v0.0.3/DDDA/packageTest.py:46: RuntimeWarning: divide by zero encountered in divide\n",
      "  RoughMindis = RoughMinAxis / NoPin1D\n"
     ]
    },
    {
     "ename": "UnboundLocalError",
     "evalue": "local variable 'np' referenced before assignment",
     "output_type": "error",
     "traceback": [
      "\u001b[0;31m---------------------------------------------------------------------------\u001b[0m",
      "\u001b[0;31mUnboundLocalError\u001b[0m                         Traceback (most recent call last)",
      "Cell \u001b[0;32mIn [2], line 4\u001b[0m\n\u001b[1;32m      1\u001b[0m \u001b[38;5;28;01mfrom\u001b[39;00m \u001b[38;5;21;01mpackageTest\u001b[39;00m \u001b[38;5;28;01mimport\u001b[39;00m DDDA\n\u001b[1;32m      2\u001b[0m my_work \u001b[38;5;241m=\u001b[39m DDDA(DataX, DataY, DataZ, DataF, InterLength, InterShift, \\\n\u001b[1;32m      3\u001b[0m                 r0, rn, Claster)\n\u001b[0;32m----> 4\u001b[0m \u001b[43mmy_work\u001b[49m\u001b[38;5;241;43m.\u001b[39;49m\u001b[43mDDDARun\u001b[49m\u001b[43m(\u001b[49m\u001b[43m)\u001b[49m\n",
      "File \u001b[0;32m~/MachineScientist/v0.0.3/DDDA/packageTest.py:71\u001b[0m, in \u001b[0;36mDDDA.DDDARun\u001b[0;34m(self)\u001b[0m\n\u001b[1;32m     68\u001b[0m DataZ_Xmin_Ori \u001b[38;5;241m=\u001b[39m copy\u001b[38;5;241m.\u001b[39mdeepcopy(DataZ)\n\u001b[1;32m     69\u001b[0m DataF_Xmin_Ori \u001b[38;5;241m=\u001b[39m copy\u001b[38;5;241m.\u001b[39mdeepcopy(DataF)\n\u001b[0;32m---> 71\u001b[0m XMinx_Frame \u001b[38;5;241m=\u001b[39m \u001b[43mnp\u001b[49m\u001b[38;5;241m.\u001b[39mzeros((NoPs,\u001b[38;5;241m1\u001b[39m))\n\u001b[1;32m     72\u001b[0m XMiny_Frame \u001b[38;5;241m=\u001b[39m np\u001b[38;5;241m.\u001b[39mzeros((NoPs,\u001b[38;5;241m1\u001b[39m))\n\u001b[1;32m     73\u001b[0m XMinz_Frame \u001b[38;5;241m=\u001b[39m np\u001b[38;5;241m.\u001b[39mzeros((NoPs,\u001b[38;5;241m1\u001b[39m))\n",
      "\u001b[0;31mUnboundLocalError\u001b[0m: local variable 'np' referenced before assignment"
     ]
    }
   ],
   "source": [
    "\n",
    "from packageTest import DDDA\n",
    "my_work = DDDA(DataX, DataY, DataZ, DataF, InterLength, InterShift, \\\n",
    "                r0, rn, Claster)\n",
    "my_work.DDDARun()"
   ]
  },
  {
   "cell_type": "code",
   "execution_count": null,
   "id": "be2b5d9c",
   "metadata": {},
   "outputs": [],
   "source": []
  }
 ],
 "metadata": {
  "kernelspec": {
   "display_name": "Python 3 (ipykernel)",
   "language": "python",
   "name": "python3"
  },
  "language_info": {
   "codemirror_mode": {
    "name": "ipython",
    "version": 3
   },
   "file_extension": ".py",
   "mimetype": "text/x-python",
   "name": "python",
   "nbconvert_exporter": "python",
   "pygments_lexer": "ipython3",
   "version": "3.8.13"
  },
  "toc": {
   "base_numbering": 1,
   "nav_menu": {},
   "number_sections": true,
   "sideBar": true,
   "skip_h1_title": false,
   "title_cell": "Table of Contents",
   "title_sidebar": "Contents",
   "toc_cell": false,
   "toc_position": {},
   "toc_section_display": true,
   "toc_window_display": false
  },
  "varInspector": {
   "cols": {
    "lenName": 16,
    "lenType": 16,
    "lenVar": 40
   },
   "kernels_config": {
    "python": {
     "delete_cmd_postfix": "",
     "delete_cmd_prefix": "del ",
     "library": "var_list.py",
     "varRefreshCmd": "print(var_dic_list())"
    },
    "r": {
     "delete_cmd_postfix": ") ",
     "delete_cmd_prefix": "rm(",
     "library": "var_list.r",
     "varRefreshCmd": "cat(var_dic_list()) "
    }
   },
   "position": {
    "height": "400.844px",
    "left": "958.328px",
    "right": "20px",
    "top": "121px",
    "width": "660px"
   },
   "types_to_exclude": [
    "module",
    "function",
    "builtin_function_or_method",
    "instance",
    "_Feature"
   ],
   "window_display": false
  }
 },
 "nbformat": 4,
 "nbformat_minor": 5
}
